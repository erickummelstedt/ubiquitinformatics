{
 "cells": [
  {
   "cell_type": "markdown",
   "id": "6fd9dff4",
   "metadata": {},
   "source": [
    "# Figure 3B Code Example; K48 reaction followed by Smac deprotection\n",
    "\n",
    "Below is an example of the code that is shown in Figure 3B - Transformation operators for reaction pathway simulation - in the manuscript; S. Majima, E. Kummelstedt, T. Mikami, L. Seidl, J. Han & J. W. Bode. Comprehensive synthesis of K48/K63 ubiquitin pentamers by graph-empowered automation. ChemRxiv 2025, preprint (Version 1, 11 Sept 2025)."
   ]
  },
  {
   "cell_type": "code",
   "execution_count": 63,
   "id": "8a39a93e",
   "metadata": {},
   "outputs": [],
   "source": [
    "import sys\n",
    "import os\n",
    "\n",
    "# Add the backend src directory to Python path\n",
    "# Get the current working directory (where the notebook is located)\n",
    "project_root = os.getcwd()\n",
    "backend_src_path = os.path.join(project_root, 'back_end', 'src')\n",
    "sys.path.append(backend_src_path)\n",
    "\n",
    "# Import the ubiquitin_simulation function\n",
    "from main import ubiquitin_simulation, iterate_through_ubiquitin\n",
    "from simulation import assign_correct_E2_enzyme"
   ]
  },
  {
   "cell_type": "markdown",
   "id": "ee8c783c",
   "metadata": {},
   "source": [
    "### (1) Initiate starting acceptor graph represented as a JSON; Gi(V,E)"
   ]
  },
  {
   "cell_type": "code",
   "execution_count": 64,
   "id": "99bd449b",
   "metadata": {},
   "outputs": [],
   "source": [
    "# Sample deeply nested ubiquitin dictionary for testing\n",
    "Gi = {\n",
    "    \"protein\": \"1ubq-histag\",\n",
    "    \"chain_number\": 1,\n",
    "    \"FASTA_sequence\": \"MQIFVKTLTGKTITLEVEPSDTIENVKAKIQDKEGIPPDQQRLIFAGKQLEDGRTLSDYNIQKESTLHLVLRLRGGDHHHHHH\",\n",
    "    \"chain_length\": 83,\n",
    "    \"branching_sites\": [\n",
    "        {\"site_name\": \"K63\", \"sequence_id\": \"NIQ(K)EST\", \"children\": {\n",
    "            \"protein\": \"1ubq\",\n",
    "            \"chain_number\": 2,\n",
    "            \"FASTA_sequence\": \"MQIFVKTLTGKTITLEVEPSDTIENVKAKIQDKEGIPPDQQRLIFAGKQLEDGRTLSDYNIQKESTLHLVLRLRGG\",\n",
    "            \"chain_length\": 76,\n",
    "            \"branching_sites\": [{\"site_name\": \"K63\", \"sequence_id\": \"NIQ(K)EST\", \"children\": \"ABOC\"},\n",
    "                                {\"site_name\": \"K48\", \"sequence_id\": \"FAG(K)QLE\", \"children\": \"\"},\n",
    "                                {\"site_name\": \"K33\", \"sequence_id\": \"IQD(K)EGI\", \"children\": \"\"},\n",
    "                                {\"site_name\": \"K29\", \"sequence_id\": \"VKA(K)IQD\", \"children\": \"\"},\n",
    "                                {\"site_name\": \"K27\", \"sequence_id\": \"ENV(K)AKI\", \"children\": \"\"},\n",
    "                                {\"site_name\": \"K11\", \"sequence_id\": \"LTG(K)TIT\", \"children\": \"\"},\n",
    "                                {\"site_name\": \"K6\", \"sequence_id\": \"IFV(K)TLT\", \"children\": \"\"},\n",
    "                                {\"site_name\": \"M1\", \"sequence_id\": \"(M)QIF\", \"children\": \"\"}]}\n",
    "        },\n",
    "        {\"site_name\": \"K48\", \"sequence_id\": \"FAG(K)QLE\", \"children\": \"ABOC\"},\n",
    "        {\"site_name\": \"K33\", \"sequence_id\": \"IQD(K)EGI\", \"children\": \"\"},\n",
    "        {\"site_name\": \"K29\", \"sequence_id\": \"VKA(K)IQD\", \"children\": \"\"},\n",
    "        {\"site_name\": \"K27\", \"sequence_id\": \"ENV(K)AKI\", \"children\": \"\"},\n",
    "        {\"site_name\": \"K11\", \"sequence_id\": \"LTG(K)TIT\", \"children\": \"\"},\n",
    "        {\"site_name\": \"K6\", \"sequence_id\": \"IFV(K)TLT\", \"children\": \"\"},\n",
    "        {\"site_name\": \"M1\", \"sequence_id\": \"(M)QIF\", \"children\": \"\"}\n",
    "        ]}"
   ]
  },
  {
   "cell_type": "markdown",
   "id": "c9e64693",
   "metadata": {},
   "source": [
    "### (2) Inititate donor graph represented as a JSON; Gii(V,E)"
   ]
  },
  {
   "cell_type": "code",
   "execution_count": 65,
   "id": "ad92267c",
   "metadata": {},
   "outputs": [],
   "source": [
    "Gii = {\n",
    "    \"protein\": \"1ubq\",\n",
    "    \"chain_number\": 1,\n",
    "    \"FASTA_sequence\": \"MQIFVKTLTGKTITLEVEPSDTIENVKAKIQDKEGIPPDQQRLIFAGKQLEDGRTLSDYNIQKESTLHLVLRLRGG\",\n",
    "    \"chain_length\": 76,\n",
    "    \"branching_sites\": [{\"site_name\": \"K63\", \"sequence_id\": \"NIQ(K)EST\", \"children\": \"SMAC\"},\n",
    "                        {\"site_name\": \"K48\", \"sequence_id\": \"FAG(K)QLE\", \"children\": \"ABOC\"},\n",
    "                        {\"site_name\": \"K33\", \"sequence_id\": \"IQD(K)EGI\", \"children\": \"\"},\n",
    "                        {\"site_name\": \"K29\", \"sequence_id\": \"VKA(K)IQD\", \"children\": \"\"},\n",
    "                        {\"site_name\": \"K27\", \"sequence_id\": \"ENV(K)AKI\", \"children\": \"\"},\n",
    "                        {\"site_name\": \"K11\", \"sequence_id\": \"LTG(K)TIT\", \"children\": \"\"},\n",
    "                        {\"site_name\": \"K6\", \"sequence_id\": \"IFV(K)TLT\", \"children\": \"\"},\n",
    "                        {\"site_name\": \"M1\", \"sequence_id\": \"(M)QIF\", \"children\": \"\"}]}\n"
   ]
  },
  {
   "cell_type": "markdown",
   "id": "81f2c659",
   "metadata": {},
   "source": [
    "### (3) Ensure that the two graphs are correctly formatted and pull their context. The context contains all the properties of the graph. This is down with iterate through ubiquitin."
   ]
  },
  {
   "cell_type": "code",
   "execution_count": 66,
   "id": "06d5349b",
   "metadata": {},
   "outputs": [],
   "source": [
    "Gi_json, Gi_context = iterate_through_ubiquitin(Gi)\n",
    "Gii_json, Gii_context = iterate_through_ubiquitin(Gii)"
   ]
  },
  {
   "cell_type": "markdown",
   "id": "97763ae6",
   "metadata": {},
   "source": [
    "### (3a-i) Inspect the Gi json"
   ]
  },
  {
   "cell_type": "code",
   "execution_count": 67,
   "id": "694449b9",
   "metadata": {},
   "outputs": [
    {
     "data": {
      "text/plain": [
       "{'protein': '1ubq-histag',\n",
       " 'chain_number': 1,\n",
       " 'FASTA_sequence': 'MQIFVKTLTGKTITLEVEPSDTIENVKAKIQDKEGIPPDQQRLIFAGKQLEDGRTLSDYNIQKESTLHLVLRLRGGDHHHHHH',\n",
       " 'chain_length': 83,\n",
       " 'branching_sites': [{'site_name': 'K63',\n",
       "   'sequence_id': 'NIQ(K)EST',\n",
       "   'children': {'protein': '1ubq',\n",
       "    'chain_number': 2,\n",
       "    'FASTA_sequence': 'MQIFVKTLTGKTITLEVEPSDTIENVKAKIQDKEGIPPDQQRLIFAGKQLEDGRTLSDYNIQKESTLHLVLRLRGG',\n",
       "    'chain_length': 76,\n",
       "    'branching_sites': [{'site_name': 'K63',\n",
       "      'sequence_id': 'NIQ(K)EST',\n",
       "      'children': 'ABOC'},\n",
       "     {'site_name': 'K48', 'sequence_id': 'FAG(K)QLE', 'children': ''},\n",
       "     {'site_name': 'K33', 'sequence_id': 'IQD(K)EGI', 'children': ''},\n",
       "     {'site_name': 'K29', 'sequence_id': 'VKA(K)IQD', 'children': ''},\n",
       "     {'site_name': 'K27', 'sequence_id': 'ENV(K)AKI', 'children': ''},\n",
       "     {'site_name': 'K11', 'sequence_id': 'LTG(K)TIT', 'children': ''},\n",
       "     {'site_name': 'K6', 'sequence_id': 'IFV(K)TLT', 'children': ''},\n",
       "     {'site_name': 'M1', 'sequence_id': '(M)QIF', 'children': ''}]}},\n",
       "  {'site_name': 'K48', 'sequence_id': 'FAG(K)QLE', 'children': 'ABOC'},\n",
       "  {'site_name': 'K33', 'sequence_id': 'IQD(K)EGI', 'children': ''},\n",
       "  {'site_name': 'K29', 'sequence_id': 'VKA(K)IQD', 'children': ''},\n",
       "  {'site_name': 'K27', 'sequence_id': 'ENV(K)AKI', 'children': ''},\n",
       "  {'site_name': 'K11', 'sequence_id': 'LTG(K)TIT', 'children': ''},\n",
       "  {'site_name': 'K6', 'sequence_id': 'IFV(K)TLT', 'children': ''},\n",
       "  {'site_name': 'M1', 'sequence_id': '(M)QIF', 'children': ''}]}"
      ]
     },
     "execution_count": 67,
     "metadata": {},
     "output_type": "execute_result"
    }
   ],
   "source": [
    "Gi_json"
   ]
  },
  {
   "cell_type": "markdown",
   "id": "085d5448",
   "metadata": {},
   "source": [
    "### (3a-ii) Inspect the Gi_context"
   ]
  },
  {
   "cell_type": "code",
   "execution_count": 68,
   "id": "693bc7e4",
   "metadata": {},
   "outputs": [
    {
     "data": {
      "text/plain": [
       "{'chain_number_list': [1, 2, 3],\n",
       " 'chain_length_list': [83, 76],\n",
       " 'multimer_string_name': 'his-GG-1ubq-histag-1-(<K63_1ubq-2-(<K63_ABOC>)><K48_ABOC>)',\n",
       " 'nomenclature_w_preorder': 'Ub1,63(Ub2,63aboc),48aboc',\n",
       " 'nomenclature_wo_preorder': 'his-Ub,63(Ub,63aboc),48aboc',\n",
       " 'max_chain_number': 2,\n",
       " 'ABOC_lysines': [[2, 'K63'], [1, 'K48']],\n",
       " 'SMAC_lysines': [],\n",
       " 'free_lysines': [[2, 'K48']],\n",
       " 'conjugated_lysines': [[1, 'K63', 2]]}"
      ]
     },
     "execution_count": 68,
     "metadata": {},
     "output_type": "execute_result"
    }
   ],
   "source": [
    "Gi_context"
   ]
  },
  {
   "cell_type": "markdown",
   "id": "31b9a200",
   "metadata": {},
   "source": [
    "### (3b-i) Inspect the Gii_json"
   ]
  },
  {
   "cell_type": "code",
   "execution_count": 69,
   "id": "7ba16cb2",
   "metadata": {},
   "outputs": [
    {
     "data": {
      "text/plain": [
       "{'protein': '1ubq',\n",
       " 'chain_number': 1,\n",
       " 'FASTA_sequence': 'MQIFVKTLTGKTITLEVEPSDTIENVKAKIQDKEGIPPDQQRLIFAGKQLEDGRTLSDYNIQKESTLHLVLRLRGG',\n",
       " 'chain_length': 76,\n",
       " 'branching_sites': [{'site_name': 'K63',\n",
       "   'sequence_id': 'NIQ(K)EST',\n",
       "   'children': 'SMAC'},\n",
       "  {'site_name': 'K48', 'sequence_id': 'FAG(K)QLE', 'children': 'ABOC'},\n",
       "  {'site_name': 'K33', 'sequence_id': 'IQD(K)EGI', 'children': ''},\n",
       "  {'site_name': 'K29', 'sequence_id': 'VKA(K)IQD', 'children': ''},\n",
       "  {'site_name': 'K27', 'sequence_id': 'ENV(K)AKI', 'children': ''},\n",
       "  {'site_name': 'K11', 'sequence_id': 'LTG(K)TIT', 'children': ''},\n",
       "  {'site_name': 'K6', 'sequence_id': 'IFV(K)TLT', 'children': ''},\n",
       "  {'site_name': 'M1', 'sequence_id': '(M)QIF', 'children': ''}]}"
      ]
     },
     "execution_count": 69,
     "metadata": {},
     "output_type": "execute_result"
    }
   ],
   "source": [
    "Gii_json"
   ]
  },
  {
   "cell_type": "markdown",
   "id": "32f4bc9f",
   "metadata": {},
   "source": [
    "### (3b-ii) Inspect the Gii_context"
   ]
  },
  {
   "cell_type": "code",
   "execution_count": 70,
   "id": "e64a9184",
   "metadata": {},
   "outputs": [
    {
     "data": {
      "text/plain": [
       "{'protein': '1ubq',\n",
       " 'chain_number': 1,\n",
       " 'FASTA_sequence': 'MQIFVKTLTGKTITLEVEPSDTIENVKAKIQDKEGIPPDQQRLIFAGKQLEDGRTLSDYNIQKESTLHLVLRLRGG',\n",
       " 'chain_length': 76,\n",
       " 'branching_sites': [{'site_name': 'K63',\n",
       "   'sequence_id': 'NIQ(K)EST',\n",
       "   'children': 'SMAC'},\n",
       "  {'site_name': 'K48', 'sequence_id': 'FAG(K)QLE', 'children': 'ABOC'},\n",
       "  {'site_name': 'K33', 'sequence_id': 'IQD(K)EGI', 'children': ''},\n",
       "  {'site_name': 'K29', 'sequence_id': 'VKA(K)IQD', 'children': ''},\n",
       "  {'site_name': 'K27', 'sequence_id': 'ENV(K)AKI', 'children': ''},\n",
       "  {'site_name': 'K11', 'sequence_id': 'LTG(K)TIT', 'children': ''},\n",
       "  {'site_name': 'K6', 'sequence_id': 'IFV(K)TLT', 'children': ''},\n",
       "  {'site_name': 'M1', 'sequence_id': '(M)QIF', 'children': ''}]}"
      ]
     },
     "execution_count": 70,
     "metadata": {},
     "output_type": "execute_result"
    }
   ],
   "source": [
    "Gii_json"
   ]
  },
  {
   "cell_type": "markdown",
   "id": "04353ec8",
   "metadata": {},
   "source": [
    "### (4) React the accpetor and donor graphs with ubiquitin_simulation"
   ]
  },
  {
   "cell_type": "code",
   "execution_count": 71,
   "id": "091a520d",
   "metadata": {},
   "outputs": [],
   "source": [
    "Giii_json, Giii_context = ubiquitin_simulation(\n",
    "    parent_dictionary = Gi_json, \n",
    "    ubi_molecule_to_add = Gii_json, \n",
    "    type_of_reaction = \"K48\"\n",
    "    )"
   ]
  },
  {
   "cell_type": "markdown",
   "id": "88a74822",
   "metadata": {},
   "source": [
    "### (4-i) Inspect the Giii_json"
   ]
  },
  {
   "cell_type": "code",
   "execution_count": 72,
   "id": "d4bdc995",
   "metadata": {},
   "outputs": [
    {
     "data": {
      "text/plain": [
       "{'protein': '1ubq-histag',\n",
       " 'chain_number': 1,\n",
       " 'FASTA_sequence': 'MQIFVKTLTGKTITLEVEPSDTIENVKAKIQDKEGIPPDQQRLIFAGKQLEDGRTLSDYNIQKESTLHLVLRLRGGDHHHHHH',\n",
       " 'chain_length': 83,\n",
       " 'branching_sites': [{'site_name': 'K63',\n",
       "   'sequence_id': 'NIQ(K)EST',\n",
       "   'children': {'protein': '1ubq',\n",
       "    'chain_number': 2,\n",
       "    'FASTA_sequence': 'MQIFVKTLTGKTITLEVEPSDTIENVKAKIQDKEGIPPDQQRLIFAGKQLEDGRTLSDYNIQKESTLHLVLRLRGG',\n",
       "    'chain_length': 76,\n",
       "    'branching_sites': [{'site_name': 'K63',\n",
       "      'sequence_id': 'NIQ(K)EST',\n",
       "      'children': 'ABOC'},\n",
       "     {'site_name': 'K48',\n",
       "      'sequence_id': 'FAG(K)QLE',\n",
       "      'children': {'protein': '1ubq',\n",
       "       'chain_number': 3,\n",
       "       'FASTA_sequence': 'MQIFVKTLTGKTITLEVEPSDTIENVKAKIQDKEGIPPDQQRLIFAGKQLEDGRTLSDYNIQKESTLHLVLRLRGG',\n",
       "       'chain_length': 76,\n",
       "       'branching_sites': [{'site_name': 'K63',\n",
       "         'sequence_id': 'NIQ(K)EST',\n",
       "         'children': 'SMAC'},\n",
       "        {'site_name': 'K48', 'sequence_id': 'FAG(K)QLE', 'children': 'ABOC'},\n",
       "        {'site_name': 'K33', 'sequence_id': 'IQD(K)EGI', 'children': ''},\n",
       "        {'site_name': 'K29', 'sequence_id': 'VKA(K)IQD', 'children': ''},\n",
       "        {'site_name': 'K27', 'sequence_id': 'ENV(K)AKI', 'children': ''},\n",
       "        {'site_name': 'K11', 'sequence_id': 'LTG(K)TIT', 'children': ''},\n",
       "        {'site_name': 'K6', 'sequence_id': 'IFV(K)TLT', 'children': ''},\n",
       "        {'site_name': 'M1', 'sequence_id': '(M)QIF', 'children': ''}]}},\n",
       "     {'site_name': 'K33', 'sequence_id': 'IQD(K)EGI', 'children': ''},\n",
       "     {'site_name': 'K29', 'sequence_id': 'VKA(K)IQD', 'children': ''},\n",
       "     {'site_name': 'K27', 'sequence_id': 'ENV(K)AKI', 'children': ''},\n",
       "     {'site_name': 'K11', 'sequence_id': 'LTG(K)TIT', 'children': ''},\n",
       "     {'site_name': 'K6', 'sequence_id': 'IFV(K)TLT', 'children': ''},\n",
       "     {'site_name': 'M1', 'sequence_id': '(M)QIF', 'children': ''}]}},\n",
       "  {'site_name': 'K48', 'sequence_id': 'FAG(K)QLE', 'children': 'ABOC'},\n",
       "  {'site_name': 'K33', 'sequence_id': 'IQD(K)EGI', 'children': ''},\n",
       "  {'site_name': 'K29', 'sequence_id': 'VKA(K)IQD', 'children': ''},\n",
       "  {'site_name': 'K27', 'sequence_id': 'ENV(K)AKI', 'children': ''},\n",
       "  {'site_name': 'K11', 'sequence_id': 'LTG(K)TIT', 'children': ''},\n",
       "  {'site_name': 'K6', 'sequence_id': 'IFV(K)TLT', 'children': ''},\n",
       "  {'site_name': 'M1', 'sequence_id': '(M)QIF', 'children': ''}]}"
      ]
     },
     "execution_count": 72,
     "metadata": {},
     "output_type": "execute_result"
    }
   ],
   "source": [
    "Giii_json"
   ]
  },
  {
   "cell_type": "markdown",
   "id": "8a73d7d5",
   "metadata": {},
   "source": [
    "### (4-ii) Inspect the Giii_context"
   ]
  },
  {
   "cell_type": "code",
   "execution_count": 73,
   "id": "77f6926d",
   "metadata": {},
   "outputs": [
    {
     "data": {
      "text/plain": [
       "{'chain_number_list': [1, 2, 3, 4],\n",
       " 'chain_length_list': [83, 76, 76],\n",
       " 'multimer_string_name': 'his-GG-1ubq-histag-1-(<K63_1ubq-2-(<K63_ABOC><K48_1ubq-3-(<K63_SMAC><K48_ABOC>)>)><K48_ABOC>)',\n",
       " 'nomenclature_w_preorder': 'Ub1,63(Ub2,63aboc,48(Ub3,63smac,48aboc)),48aboc',\n",
       " 'nomenclature_wo_preorder': 'his-Ub,63(Ub,63aboc,48(Ub,63smac,48aboc)),48aboc',\n",
       " 'max_chain_number': 3,\n",
       " 'ABOC_lysines': [[2, 'K63'], [3, 'K48'], [1, 'K48']],\n",
       " 'SMAC_lysines': [[3, 'K63']],\n",
       " 'free_lysines': [],\n",
       " 'conjugated_lysines': [[1, 'K63', 2], [2, 'K48', 3]]}"
      ]
     },
     "execution_count": 73,
     "metadata": {},
     "output_type": "execute_result"
    }
   ],
   "source": [
    "Giii_context"
   ]
  },
  {
   "cell_type": "markdown",
   "id": "87cb5802",
   "metadata": {},
   "source": [
    "### (5) Run assign_correct_E2_enzyme"
   ]
  },
  {
   "cell_type": "code",
   "execution_count": 74,
   "id": "e1f3f6ae",
   "metadata": {},
   "outputs": [
    {
     "data": {
      "text/plain": [
       "'Ube2K'"
      ]
     },
     "execution_count": 74,
     "metadata": {},
     "output_type": "execute_result"
    }
   ],
   "source": [
    "assign_correct_E2_enzyme(Gi_context, Giii_context)"
   ]
  },
  {
   "cell_type": "markdown",
   "id": "dacc9557",
   "metadata": {},
   "source": [
    "### (6) React the product graph with a smac deprotection reaction through ubiquitin simulation"
   ]
  },
  {
   "cell_type": "code",
   "execution_count": 75,
   "id": "421ff987",
   "metadata": {},
   "outputs": [],
   "source": [
    "Giv_json, Giv_context = ubiquitin_simulation(\n",
    "    parent_dictionary = Giii_json, \n",
    "    ubi_molecule_to_add = '', \n",
    "    type_of_reaction = \"SMAC_deprot\"\n",
    "    )"
   ]
  },
  {
   "cell_type": "markdown",
   "id": "a8452939",
   "metadata": {},
   "source": [
    "### (6-i) Inspect the Giv_json"
   ]
  },
  {
   "cell_type": "code",
   "execution_count": 76,
   "id": "d24f9015",
   "metadata": {},
   "outputs": [
    {
     "data": {
      "text/plain": [
       "{'protein': '1ubq-histag',\n",
       " 'chain_number': 1,\n",
       " 'FASTA_sequence': 'MQIFVKTLTGKTITLEVEPSDTIENVKAKIQDKEGIPPDQQRLIFAGKQLEDGRTLSDYNIQKESTLHLVLRLRGGDHHHHHH',\n",
       " 'chain_length': 83,\n",
       " 'branching_sites': [{'site_name': 'K63',\n",
       "   'sequence_id': 'NIQ(K)EST',\n",
       "   'children': {'protein': '1ubq',\n",
       "    'chain_number': 2,\n",
       "    'FASTA_sequence': 'MQIFVKTLTGKTITLEVEPSDTIENVKAKIQDKEGIPPDQQRLIFAGKQLEDGRTLSDYNIQKESTLHLVLRLRGG',\n",
       "    'chain_length': 76,\n",
       "    'branching_sites': [{'site_name': 'K63',\n",
       "      'sequence_id': 'NIQ(K)EST',\n",
       "      'children': 'ABOC'},\n",
       "     {'site_name': 'K48',\n",
       "      'sequence_id': 'FAG(K)QLE',\n",
       "      'children': {'protein': '1ubq',\n",
       "       'chain_number': 3,\n",
       "       'FASTA_sequence': 'MQIFVKTLTGKTITLEVEPSDTIENVKAKIQDKEGIPPDQQRLIFAGKQLEDGRTLSDYNIQKESTLHLVLRLRGG',\n",
       "       'chain_length': 76,\n",
       "       'branching_sites': [{'site_name': 'K63',\n",
       "         'sequence_id': 'NIQ(K)EST',\n",
       "         'children': ''},\n",
       "        {'site_name': 'K48', 'sequence_id': 'FAG(K)QLE', 'children': 'ABOC'},\n",
       "        {'site_name': 'K33', 'sequence_id': 'IQD(K)EGI', 'children': ''},\n",
       "        {'site_name': 'K29', 'sequence_id': 'VKA(K)IQD', 'children': ''},\n",
       "        {'site_name': 'K27', 'sequence_id': 'ENV(K)AKI', 'children': ''},\n",
       "        {'site_name': 'K11', 'sequence_id': 'LTG(K)TIT', 'children': ''},\n",
       "        {'site_name': 'K6', 'sequence_id': 'IFV(K)TLT', 'children': ''},\n",
       "        {'site_name': 'M1', 'sequence_id': '(M)QIF', 'children': ''}]}},\n",
       "     {'site_name': 'K33', 'sequence_id': 'IQD(K)EGI', 'children': ''},\n",
       "     {'site_name': 'K29', 'sequence_id': 'VKA(K)IQD', 'children': ''},\n",
       "     {'site_name': 'K27', 'sequence_id': 'ENV(K)AKI', 'children': ''},\n",
       "     {'site_name': 'K11', 'sequence_id': 'LTG(K)TIT', 'children': ''},\n",
       "     {'site_name': 'K6', 'sequence_id': 'IFV(K)TLT', 'children': ''},\n",
       "     {'site_name': 'M1', 'sequence_id': '(M)QIF', 'children': ''}]}},\n",
       "  {'site_name': 'K48', 'sequence_id': 'FAG(K)QLE', 'children': 'ABOC'},\n",
       "  {'site_name': 'K33', 'sequence_id': 'IQD(K)EGI', 'children': ''},\n",
       "  {'site_name': 'K29', 'sequence_id': 'VKA(K)IQD', 'children': ''},\n",
       "  {'site_name': 'K27', 'sequence_id': 'ENV(K)AKI', 'children': ''},\n",
       "  {'site_name': 'K11', 'sequence_id': 'LTG(K)TIT', 'children': ''},\n",
       "  {'site_name': 'K6', 'sequence_id': 'IFV(K)TLT', 'children': ''},\n",
       "  {'site_name': 'M1', 'sequence_id': '(M)QIF', 'children': ''}]}"
      ]
     },
     "execution_count": 76,
     "metadata": {},
     "output_type": "execute_result"
    }
   ],
   "source": [
    "Giv_json"
   ]
  },
  {
   "cell_type": "markdown",
   "id": "56d8207b",
   "metadata": {},
   "source": [
    "### (6-i) Inspect the Giv_context"
   ]
  },
  {
   "cell_type": "code",
   "execution_count": 77,
   "id": "0564fb48",
   "metadata": {},
   "outputs": [
    {
     "data": {
      "text/plain": [
       "{'chain_number_list': [1, 2, 3, 4],\n",
       " 'chain_length_list': [83, 76, 76],\n",
       " 'multimer_string_name': 'his-GG-1ubq-histag-1-(<K63_1ubq-2-(<K63_ABOC><K48_1ubq-3-(<K48_ABOC>)>)><K48_ABOC>)',\n",
       " 'nomenclature_w_preorder': 'Ub1,63(Ub2,63aboc,48(Ub3,48aboc)),48aboc',\n",
       " 'nomenclature_wo_preorder': 'his-Ub,63(Ub,63aboc,48(Ub,48aboc)),48aboc',\n",
       " 'max_chain_number': 3,\n",
       " 'ABOC_lysines': [[2, 'K63'], [3, 'K48'], [1, 'K48']],\n",
       " 'SMAC_lysines': [],\n",
       " 'free_lysines': [[3, 'K63']],\n",
       " 'conjugated_lysines': [[1, 'K63', 2], [2, 'K48', 3]]}"
      ]
     },
     "execution_count": 77,
     "metadata": {},
     "output_type": "execute_result"
    }
   ],
   "source": [
    "Giv_context"
   ]
  }
 ],
 "metadata": {
  "kernelspec": {
   "display_name": ".venv",
   "language": "python",
   "name": "python3"
  },
  "language_info": {
   "codemirror_mode": {
    "name": "ipython",
    "version": 3
   },
   "file_extension": ".py",
   "mimetype": "text/x-python",
   "name": "python",
   "nbconvert_exporter": "python",
   "pygments_lexer": "ipython3",
   "version": "3.13.7"
  }
 },
 "nbformat": 4,
 "nbformat_minor": 5
}
