{
 "cells": [
  {
   "cell_type": "code",
   "execution_count": 50,
   "id": "eb8145b1",
   "metadata": {},
   "outputs": [
    {
     "name": "stdout",
     "output_type": "stream",
     "text": [
      "Saved table image to: /Users/ekummelstedt/Desktop/table_1.png\n"
     ]
    },
    {
     "data": {
      "image/png": "[encoded data removed]",
      "text/plain": [
       "<Figure size 1200x60 with 1 Axes>"
      ]
     },
     "metadata": {},
     "output_type": "display_data"
    }
   ],
   "source": [
    "from pathlib import Path\n",
    "import pandas as pd\n",
    "import matplotlib.pyplot as plt\n",
    "from matplotlib.font_manager import FontProperties\n",
    "import re\n",
    "\n",
    "# Variables for easy adjustments\n",
    "var_font_size = 10\n",
    "var_row_height = 0.8\n",
    "var_line_width = 0.5\n",
    "\n",
    "# Load the Excel file\n",
    "file_path = Path(\"/Users/ekummelstedt/Desktop/table_1.xlsx\")\n",
    "df = pd.read_excel(file_path)\n",
    "\n",
    "# Set up the plot\n",
    "plt.figure(figsize=(df.shape[1] * 1.5, df.shape[0] * 0.6))\n",
    "plt.axis('off')\n",
    "\n",
    "# Font definitions\n",
    "font_default = FontProperties(family=\"DejaVu Sans\", size=var_font_size)\n",
    "font_fallback = FontProperties(family=\"DejaVu Sans\", size=var_font_size)\n",
    "\n",
    "# Unicode superscript/subscript mapping\n",
    "subscript_map = str.maketrans(\"0123456789\", \"₀₁₂₃₄₅₆₇₈₉\")\n",
    "superscript_map = {\n",
    "    '0': '⁰', '1': '¹', '2': '²', '3': '³', '4': '⁴',\n",
    "    '5': '⁵', '6': '⁶', '7': '⁷', '8': '⁸', '9': '⁹',\n",
    "    'a': 'ᵃ', 'b': 'ᵇ', 'c': 'ᶜ', 'd': 'ᵈ', 'e': 'ᵉ',\n",
    "    'f': 'ᶠ', 'g': 'ᵍ', 'h': 'ʰ', 'i': 'ⁱ', 'j': 'ʲ',\n",
    "    'k': 'ᵏ', 'l': 'ˡ', 'm': 'ᵐ', 'n': 'ⁿ', 'o': 'ᵒ',\n",
    "    'p': 'ᵖ', 'r': 'ʳ', 's': 'ˢ', 't': 'ᵗ', 'u': 'ᵘ',\n",
    "    'v': 'ᵛ', 'w': 'ʷ', 'x': 'ˣ', 'y': 'ʸ', 'z': 'ᶻ',\n",
    "    'A': 'ᴬ', 'B': 'ᴮ', 'D': 'ᴰ', 'E': 'ᴱ', 'G': 'ᴳ',\n",
    "    'H': 'ᴴ', 'I': 'ᴵ', 'J': 'ᴶ', 'K': 'ᴷ', 'L': 'ᴸ',\n",
    "    'M': 'ᴹ', 'N': 'ᴺ', 'O': 'ᴼ', 'P': 'ᴾ', 'R': 'ᴿ',\n",
    "    'T': 'ᵀ', 'U': 'ᵁ', 'V': 'ⱽ', 'W': 'ᵂ'\n",
    "}\n",
    "\n",
    "def format_text(text):\n",
    "    # Convert _<digit> to subscript\n",
    "    text = re.sub(r'_(\\d)', lambda m: m.group(1).translate(subscript_map), text)\n",
    "    # Convert ^<char> to superscript\n",
    "    text = re.sub(r'\\^([A-Za-z0-9])', lambda m: superscript_map.get(m.group(1), m.group(1)), text)\n",
    "    return text\n",
    "\n",
    "def needs_unicode(text):\n",
    "    return bool(re.search(r'(_\\d)|(\\^[A-Za-z0-9])', text))\n",
    "\n",
    "# Create the table\n",
    "table = plt.table(cellText=df.values,\n",
    "                  colLabels=df.columns,\n",
    "                  cellLoc='center',\n",
    "                  colLoc='center',\n",
    "                  loc='center')\n",
    "\n",
    "# Format cells\n",
    "last_row_index = df.shape[0]\n",
    "for (row, col), cell in table.get_celld().items():\n",
    "    text_obj = cell.get_text()\n",
    "    raw_text = str(text_obj.get_text())\n",
    "    formatted = format_text(raw_text)\n",
    "\n",
    "    # Choose font based on presence of special characters\n",
    "    if needs_unicode(raw_text):\n",
    "        text_obj.set_fontproperties(font_fallback)\n",
    "    else:\n",
    "        text_obj.set_fontproperties(font_default)\n",
    "\n",
    "    text_obj.set_text(formatted)\n",
    "    text_obj.set_verticalalignment('center')\n",
    "    text_obj.set_horizontalalignment('center')\n",
    "\n",
    "    cell.set_height(var_row_height)\n",
    "    cell.set_linewidth(0)\n",
    "\n",
    "    if row == 1:\n",
    "        cell.set_linewidth(var_line_width)\n",
    "        cell.visible_edges = 'T'\n",
    "\n",
    "# Save to PNG\n",
    "output_path = \"/Users/ekummelstedt/Desktop/table_1.png\"\n",
    "plt.savefig(output_path, dpi=300, bbox_inches='tight', transparent=True)\n",
    "\n",
    "print(f\"Saved table image to: {output_path}\")"
   ]
  },
  {
   "cell_type": "code",
   "execution_count": 2,
   "id": "1c55dd47",
   "metadata": {},
   "outputs": [
    {
     "name": "stdout",
     "output_type": "stream",
     "text": [
      "\n",
      "\u001b[1m[\u001b[0m\u001b[34;49mnotice\u001b[0m\u001b[1;39;49m]\u001b[0m\u001b[39;49m A new release of pip is available: \u001b[0m\u001b[31;49m24.3.1\u001b[0m\u001b[39;49m -> \u001b[0m\u001b[32;49m25.1.1\u001b[0m\n",
      "\u001b[1m[\u001b[0m\u001b[34;49mnotice\u001b[0m\u001b[1;39;49m]\u001b[0m\u001b[39;49m To update, run: \u001b[0m\u001b[32;49mpip install --upgrade pip\u001b[0m\n"
     ]
    }
   ],
   "source": [
    "!pip install -q matplotlib pandas openpyxl"
   ]
  },
  {
   "cell_type": "code",
   "execution_count": 3,
   "id": "209ae13a",
   "metadata": {},
   "outputs": [
    {
     "name": "stdout",
     "output_type": "stream",
     "text": [
      "Requirement already satisfied: pip in /Users/ekummelstedt/le_code_base/ubiquitinformatics/.venv/lib/python3.11/site-packages (24.3.1)\n",
      "Collecting pip\n",
      "  Downloading pip-25.1.1-py3-none-any.whl.metadata (3.6 kB)\n",
      "Downloading pip-25.1.1-py3-none-any.whl (1.8 MB)\n",
      "\u001b[2K   \u001b[90m━━━━━━━━━━━━━━━━━━━━━━━━━━━━━━━━━━━━━━━━\u001b[0m \u001b[32m1.8/1.8 MB\u001b[0m \u001b[31m13.9 MB/s\u001b[0m eta \u001b[36m0:00:00\u001b[0m\n",
      "\u001b[?25hInstalling collected packages: pip\n",
      "  Attempting uninstall: pip\n",
      "    Found existing installation: pip 24.3.1\n",
      "    Uninstalling pip-24.3.1:\n",
      "      Successfully uninstalled pip-24.3.1\n",
      "Successfully installed pip-25.1.1\n"
     ]
    }
   ],
   "source": [
    "!pip install --upgrade pip"
   ]
  },
  {
   "cell_type": "code",
   "execution_count": null,
   "id": "bddd2532",
   "metadata": {},
   "outputs": [],
   "source": []
  }
 ],
 "metadata": {
  "kernelspec": {
   "display_name": ".venv",
   "language": "python",
   "name": "python3"
  },
  "language_info": {
   "codemirror_mode": {
    "name": "ipython",
    "version": 3
   },
   "file_extension": ".py",
   "mimetype": "text/x-python",
   "name": "python",
   "nbconvert_exporter": "python",
   "pygments_lexer": "ipython3",
   "version": "3.11.7"
  }
 },
 "nbformat": 4,
 "nbformat_minor": 5
}
