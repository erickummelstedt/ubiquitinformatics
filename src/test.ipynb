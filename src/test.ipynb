{
 "cells": [
  {
   "cell_type": "code",
   "execution_count": 3,
   "id": "336044fc",
   "metadata": {},
   "outputs": [
    {
     "name": "stdout",
     "output_type": "stream",
     "text": [
      "Collecting ast\n",
      "  Using cached AST-0.0.2.tar.gz (19 kB)\n",
      "  Installing build dependencies ... \u001b[?25ldone\n",
      "\u001b[?25h  Getting requirements to build wheel ... \u001b[?25lerror\n",
      "  \u001b[1;31merror\u001b[0m: \u001b[1msubprocess-exited-with-error\u001b[0m\n",
      "  \n",
      "  \u001b[31m×\u001b[0m \u001b[32mGetting requirements to build wheel\u001b[0m did not run successfully.\n",
      "  \u001b[31m│\u001b[0m exit code: \u001b[1;36m1\u001b[0m\n",
      "  \u001b[31m╰─>\u001b[0m \u001b[31m[21 lines of output]\u001b[0m\n",
      "  \u001b[31m   \u001b[0m Traceback (most recent call last):\n",
      "  \u001b[31m   \u001b[0m   File \"/Users/ekummelstedt/le_code_base/ubiquitinformatics/.venv/lib/python3.11/site-packages/pip/_vendor/pyproject_hooks/_in_process/_in_process.py\", line 353, in <module>\n",
      "  \u001b[31m   \u001b[0m     main()\n",
      "  \u001b[31m   \u001b[0m   File \"/Users/ekummelstedt/le_code_base/ubiquitinformatics/.venv/lib/python3.11/site-packages/pip/_vendor/pyproject_hooks/_in_process/_in_process.py\", line 335, in main\n",
      "  \u001b[31m   \u001b[0m     json_out['return_val'] = hook(**hook_input['kwargs'])\n",
      "  \u001b[31m   \u001b[0m                              ^^^^^^^^^^^^^^^^^^^^^^^^^^^^\n",
      "  \u001b[31m   \u001b[0m   File \"/Users/ekummelstedt/le_code_base/ubiquitinformatics/.venv/lib/python3.11/site-packages/pip/_vendor/pyproject_hooks/_in_process/_in_process.py\", line 118, in get_requires_for_build_wheel\n",
      "  \u001b[31m   \u001b[0m     return hook(config_settings)\n",
      "  \u001b[31m   \u001b[0m            ^^^^^^^^^^^^^^^^^^^^^\n",
      "  \u001b[31m   \u001b[0m   File \"/private/var/folders/pb/74hygr1x6wsbpggp212gh8qr0000gn/T/pip-build-env-w_9llpzd/overlay/lib/python3.11/site-packages/setuptools/build_meta.py\", line 334, in get_requires_for_build_wheel\n",
      "  \u001b[31m   \u001b[0m     return self._get_build_requires(config_settings, requirements=[])\n",
      "  \u001b[31m   \u001b[0m            ^^^^^^^^^^^^^^^^^^^^^^^^^^^^^^^^^^^^^^^^^^^^^^^^^^^^^^^^^^\n",
      "  \u001b[31m   \u001b[0m   File \"/private/var/folders/pb/74hygr1x6wsbpggp212gh8qr0000gn/T/pip-build-env-w_9llpzd/overlay/lib/python3.11/site-packages/setuptools/build_meta.py\", line 304, in _get_build_requires\n",
      "  \u001b[31m   \u001b[0m     self.run_setup()\n",
      "  \u001b[31m   \u001b[0m   File \"/private/var/folders/pb/74hygr1x6wsbpggp212gh8qr0000gn/T/pip-build-env-w_9llpzd/overlay/lib/python3.11/site-packages/setuptools/build_meta.py\", line 522, in run_setup\n",
      "  \u001b[31m   \u001b[0m     super().run_setup(setup_script=setup_script)\n",
      "  \u001b[31m   \u001b[0m   File \"/private/var/folders/pb/74hygr1x6wsbpggp212gh8qr0000gn/T/pip-build-env-w_9llpzd/overlay/lib/python3.11/site-packages/setuptools/build_meta.py\", line 320, in run_setup\n",
      "  \u001b[31m   \u001b[0m     exec(code, locals())\n",
      "  \u001b[31m   \u001b[0m   File \"<string>\", line 6, in <module>\n",
      "  \u001b[31m   \u001b[0m   File \"<frozen codecs>\", line 918, in open\n",
      "  \u001b[31m   \u001b[0m FileNotFoundError: [Errno 2] No such file or directory: '/private/var/folders/pb/74hygr1x6wsbpggp212gh8qr0000gn/T/pip-install-jlhxq7wb/ast_63e02ce800c846cba784f1d4b1d7c1ba/AST/README'\n",
      "  \u001b[31m   \u001b[0m \u001b[31m[end of output]\u001b[0m\n",
      "  \n",
      "  \u001b[1;35mnote\u001b[0m: This error originates from a subprocess, and is likely not a problem with pip.\n",
      "\u001b[?25h\n",
      "\u001b[1m[\u001b[0m\u001b[34;49mnotice\u001b[0m\u001b[1;39;49m]\u001b[0m\u001b[39;49m A new release of pip is available: \u001b[0m\u001b[31;49m24.3.1\u001b[0m\u001b[39;49m -> \u001b[0m\u001b[32;49m25.0.1\u001b[0m\n",
      "\u001b[1m[\u001b[0m\u001b[34;49mnotice\u001b[0m\u001b[1;39;49m]\u001b[0m\u001b[39;49m To update, run: \u001b[0m\u001b[32;49mpip install --upgrade pip\u001b[0m\n",
      "\u001b[1;31merror\u001b[0m: \u001b[1msubprocess-exited-with-error\u001b[0m\n",
      "\n",
      "\u001b[31m×\u001b[0m \u001b[32mGetting requirements to build wheel\u001b[0m did not run successfully.\n",
      "\u001b[31m│\u001b[0m exit code: \u001b[1;36m1\u001b[0m\n",
      "\u001b[31m╰─>\u001b[0m See above for output.\n",
      "\n",
      "\u001b[1;35mnote\u001b[0m: This error originates from a subprocess, and is likely not a problem with pip.\n",
      "Functions found: ['find_branching_site', 'validate_protein_keys', 'check_branching_sites', 'check_branching_sequences', 'check_branching_site_sequence_match', 'check_children_format', 'validate_branching_sites', 'convert_json_to_dict', 'process_current_protein', 'process_branch', 'log_branching_details', 'log_end_of_branching', 'log_protein_details', 'log_end_of_protein', 'iterate_through_ubiquitin', 'inner_wrapper_iterate_through_ubiquitin', 'find_max_chain_number', 'K_residue_ubi_addition', 'ubiquitin_simulation', 'inner_wrapper_ubiquitin_simulation']\n"
     ]
    }
   ],
   "source": [
    "!pip install ast\n",
    "import ast\n",
    "\n",
    "def extract_function_names(file_path):\n",
    "    with open(file_path, \"r\") as file:\n",
    "        node = ast.parse(file.read(), filename=file_path)\n",
    "\n",
    "    functions = [n.name for n in ast.walk(node) if isinstance(n, ast.FunctionDef)]\n",
    "    return functions\n",
    "\n",
    "# Example usage\n",
    "file_path = \"/Users/ekummelstedt/le_code_base/ubiquitinformatics/src/main.py\"  # replace with your target file\n",
    "functions = extract_function_names(file_path)\n",
    "print(\"Functions found:\", functions)"
   ]
  },
  {
   "cell_type": "code",
   "execution_count": 4,
   "id": "9416f813",
   "metadata": {},
   "outputs": [
    {
     "data": {
      "text/plain": [
       "['find_branching_site',\n",
       " 'validate_protein_keys',\n",
       " 'check_branching_sites',\n",
       " 'check_branching_sequences',\n",
       " 'check_branching_site_sequence_match',\n",
       " 'check_children_format',\n",
       " 'validate_branching_sites',\n",
       " 'convert_json_to_dict',\n",
       " 'process_current_protein',\n",
       " 'process_branch',\n",
       " 'log_branching_details',\n",
       " 'log_end_of_branching',\n",
       " 'log_protein_details',\n",
       " 'log_end_of_protein',\n",
       " 'iterate_through_ubiquitin',\n",
       " 'inner_wrapper_iterate_through_ubiquitin',\n",
       " 'find_max_chain_number',\n",
       " 'K_residue_ubi_addition',\n",
       " 'ubiquitin_simulation',\n",
       " 'inner_wrapper_ubiquitin_simulation']"
      ]
     },
     "execution_count": 4,
     "metadata": {},
     "output_type": "execute_result"
    }
   ],
   "source": [
    "functions"
   ]
  },
  {
   "cell_type": "code",
   "execution_count": 6,
   "id": "42de8746",
   "metadata": {},
   "outputs": [
    {
     "ename": "IndexError",
     "evalue": "list index out of range",
     "output_type": "error",
     "traceback": [
      "\u001b[0;31m---------------------------------------------------------------------------\u001b[0m",
      "\u001b[0;31mIndexError\u001b[0m                                Traceback (most recent call last)",
      "Cell \u001b[0;32mIn[6], line 2\u001b[0m\n\u001b[1;32m      1\u001b[0m hi \u001b[38;5;241m=\u001b[39m []\n\u001b[0;32m----> 2\u001b[0m \u001b[43mhi\u001b[49m\u001b[43m[\u001b[49m\u001b[38;5;241;43m-\u001b[39;49m\u001b[38;5;241;43m1\u001b[39;49m\u001b[43m]\u001b[49m\n",
      "\u001b[0;31mIndexError\u001b[0m: list index out of range"
     ]
    }
   ],
   "source": [
    "hi = []\n",
    "hi[-1]"
   ]
  },
  {
   "cell_type": "code",
   "execution_count": null,
   "id": "78a77945",
   "metadata": {},
   "outputs": [],
   "source": []
  }
 ],
 "metadata": {
  "kernelspec": {
   "display_name": ".venv",
   "language": "python",
   "name": "python3"
  },
  "language_info": {
   "codemirror_mode": {
    "name": "ipython",
    "version": 3
   },
   "file_extension": ".py",
   "mimetype": "text/x-python",
   "name": "python",
   "nbconvert_exporter": "python",
   "pygments_lexer": "ipython3",
   "version": "3.11.7"
  }
 },
 "nbformat": 4,
 "nbformat_minor": 5
}
