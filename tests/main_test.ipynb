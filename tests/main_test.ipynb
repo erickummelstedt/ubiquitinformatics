{
 "cells": [
  {
   "cell_type": "code",
   "execution_count": 10,
   "metadata": {},
   "outputs": [],
   "source": [
    "import sys\n",
    "\n",
    "# home_dir = os.path.expanduser('~')\n",
    "local_path = '/Users/ekummelstedt/le_code_base/ubiquitinformatics'\n",
    "\n",
    "# adding Folder_2 to the system path\n",
    "from main import *"
   ]
  },
  {
   "cell_type": "code",
   "execution_count": 7,
   "metadata": {},
   "outputs": [],
   "source": [
    "from main import (\n",
    "    iterate_through_ubiquitin,\n",
    "    inner_wrapper_iterate_through_ubiquitin,\n",
    "    process_current_protein,\n",
    "    process_branch,\n",
    "    handle_protecting_group,\n",
    "    log_protein_details,\n",
    "    find_branching_site\n",
    ")"
   ]
  },
  {
   "cell_type": "code",
   "execution_count": null,
   "metadata": {},
   "outputs": [],
   "source": []
  }
 ],
 "metadata": {
  "kernelspec": {
   "display_name": ".venv",
   "language": "python",
   "name": "python3"
  },
  "language_info": {
   "codemirror_mode": {
    "name": "ipython",
    "version": 3
   },
   "file_extension": ".py",
   "mimetype": "text/x-python",
   "name": "python",
   "nbconvert_exporter": "python",
   "pygments_lexer": "ipython3",
   "version": "3.11.7"
  }
 },
 "nbformat": 4,
 "nbformat_minor": 2
}
