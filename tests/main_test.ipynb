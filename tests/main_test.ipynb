{
 "cells": [
  {
   "cell_type": "code",
   "execution_count": null,
   "metadata": {},
   "outputs": [],
   "source": [
    "from src.main import (\n",
    "    iterate_through_ubiquitin,\n",
    "    inner_wrapper_iterate_through_ubiquitin,\n",
    "    process_current_protein,\n",
    "    process_branch,\n",
    "    handle_protecting_group,\n",
    "    log_protein_details,\n",
    "    find_branching_site\n",
    ")"
   ]
  }
 ],
 "metadata": {
  "kernelspec": {
   "display_name": ".venv",
   "language": "python",
   "name": "python3"
  },
  "language_info": {
   "name": "python",
   "version": "3.11.7"
  }
 },
 "nbformat": 4,
 "nbformat_minor": 2
}
