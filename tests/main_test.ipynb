{
 "cells": [
  {
   "cell_type": "code",
   "execution_count": 7,
   "metadata": {},
   "outputs": [],
   "source": [
    "import sys\n",
    "\n",
    "# home_dir = os.path.expanduser('~')\n",
    "local_path = '/Users/ekummelstedt/le_code_base/ubiquitinformatics'\n",
    "sys.path.insert(0, local_path)\n",
    "\n",
    "# adding Folder_2 to the system path\n",
    "from src.main import *"
   ]
  },
  {
   "cell_type": "code",
   "execution_count": 8,
   "metadata": {},
   "outputs": [],
   "source": [
    "from src.main import (\n",
    "    iterate_through_ubiquitin,\n",
    "    inner_wrapper_iterate_through_ubiquitin,\n",
    "    process_current_protein,\n",
    "    process_branch,\n",
    "    handle_protecting_group,\n",
    "    log_protein_details,\n",
    "    find_branching_site\n",
    ")"
   ]
  },
  {
   "cell_type": "code",
   "execution_count": 9,
   "metadata": {},
   "outputs": [
    {
     "name": "stdout",
     "output_type": "stream",
     "text": [
      "['/Users/ekummelstedt/le_code_base/ubiquitinformatics', '/Users/ekummelstedt/le_code_base/ubiquitinformatics/tests', '/Users/ekummelstedt/le_code_base/ubiquitinformatics', '/Users/ekummelstedt/le_code_base/ubiquitinformatics', '/Users/ekummelstedt/miniconda3/lib/python311.zip', '/Users/ekummelstedt/miniconda3/lib/python3.11', '/Users/ekummelstedt/miniconda3/lib/python3.11/lib-dynload', '', '/Users/ekummelstedt/le_code_base/ubiquitinformatics/.venv/lib/python3.11/site-packages']\n",
      "current working dir: /Users/ekummelstedt/le_code_base/ubiquitinformatics/tests\n"
     ]
    }
   ],
   "source": [
    "import os\n",
    "print(str(sys.path))\n",
    "dir_path = os.path.dirname(os.path.realpath('ubiquitinformatics'))\n",
    "print(\"current working dir: %s\" % dir_path)\n",
    "sys.path.insert(0, dir_path)\n"
   ]
  },
  {
   "cell_type": "code",
   "execution_count": 10,
   "metadata": {},
   "outputs": [],
   "source": [
    "# Sample deeply nested ubiquitin dictionary for testing\n",
    "k48_dimer_ubiquitin = {\n",
    "    \"protein\": \"1ubq-histag\",\n",
    "    \"chain_number\": 1,\n",
    "    \"FASTA_sequence\": \"MQIFVKTLTGKTITLEVEPSDTIENVKAKIQDKEGIPPDQQRLIFAGKQLEDGRTLSDYNIQKESTLHLVLRLRGGDHHHHHH\",\n",
    "    \"chain_length\": 83,\n",
    "    \"branching_sites\": [\n",
    "        {\"site_name\": \"M1\",\"sequence_id\": \"(M)QIF\",\"children\": \"\"},\n",
    "        {\"site_name\": \"K6\",\"sequence_id\": \"IFV(K)TLT\",\"children\": \"\"},\n",
    "        {\"site_name\": \"K11\",\"sequence_id\": \"LTG(K)TIT\",\"children\": \"\"},\n",
    "        {\"site_name\": \"K27\",\"sequence_id\": \"ENV(K)AKI\",\"children\": \"\"},\n",
    "        {\"site_name\": \"K29\",\"sequence_id\": \"VKA(K)IQD\",\"children\": \"\"},\n",
    "        {\"site_name\": \"K33\",\"sequence_id\": \"IQD(K)EGI\",\"children\": \"\"},\n",
    "        {\"site_name\": \"K48\",\"sequence_id\": \"FAG(K)QLE\",\"children\": {\"protein\": \"1ubq\",\n",
    "                                                                    \"chain_number\": 2,\n",
    "                                                                    \"FASTA_sequence\": \"MQIFVKTLTGKTITLEVEPSDTIENVKAKIQDKEGIPPDQQRLIFAGKQLEDGRTLSDYNIQKESTLHLVLRLRGG\",\n",
    "                                                                    \"chain_length\": 76,\n",
    "                                                                    \"branching_sites\": [{\"site_name\": \"M1\",\"sequence_id\": \"(M)QIF\",\"children\": \"\"},\n",
    "                                                                                        {\"site_name\": \"K6\",\"sequence_id\": \"IFV(K)TLT\",\"children\": \"\"},\n",
    "                                                                                        {\"site_name\": \"K11\",\"sequence_id\": \"LTG(K)TIT\",\"children\": \"\"},\n",
    "                                                                                        {\"site_name\": \"K27\",\"sequence_id\": \"ENV(K)AKI\",\"children\": \"\"},\n",
    "                                                                                        {\"site_name\": \"K29\",\"sequence_id\": \"VKA(K)IQD\",\"children\": \"\"},\n",
    "                                                                                        {\"site_name\": \"K33\",\"sequence_id\": \"IQD(K)EGI\",\"children\": \"\"},\n",
    "                                                                                        {\"site_name\": \"K48\",\"sequence_id\": \"FAG(K)QLE\",\"children\":\"\"}, \n",
    "                                                                                        {\"site_name\": \"K63\",\"sequence_id\": \"NIQ(K)EST\",\"children\": \"SMAC\"}]}},\n",
    "        {\"site_name\": \"K63\",\"sequence_id\": \"NIQ(K)EST\",\"children\": \"SMAC\"}]}\n"
   ]
  },
  {
   "cell_type": "code",
   "execution_count": 11,
   "metadata": {},
   "outputs": [],
   "source": [
    "# home_dir = os.path.expanduser('~')\n",
    "local_path = '/Users/ekummelstedt/le_code_base/ubiquitinformatics'\n",
    "sys.path.insert(0, local_path)\n",
    "\n",
    "# Import the functions from the original code\n",
    "from src.main_testing import find_branching_site, relabelling_ubiquitin_numbers, inner_wrapper_relabelling_ubiquitin_numbers"
   ]
  },
  {
   "cell_type": "code",
   "execution_count": 12,
   "metadata": {},
   "outputs": [
    {
     "data": {
      "text/plain": [
       "{'protein': '1ubq-histag',\n",
       " 'chain_number': 1,\n",
       " 'FASTA_sequence': 'MQIFVKTLTGKTITLEVEPSDTIENVKAKIQDKEGIPPDQQRLIFAGKQLEDGRTLSDYNIQKESTLHLVLRLRGGDHHHHHH',\n",
       " 'chain_length': 83,\n",
       " 'branching_sites': [{'site_name': 'M1',\n",
       "   'sequence_id': '(M)QIF',\n",
       "   'children': ''},\n",
       "  {'site_name': 'K6', 'sequence_id': 'IFV(K)TLT', 'children': ''},\n",
       "  {'site_name': 'K11', 'sequence_id': 'LTG(K)TIT', 'children': ''},\n",
       "  {'site_name': 'K27', 'sequence_id': 'ENV(K)AKI', 'children': ''},\n",
       "  {'site_name': 'K29', 'sequence_id': 'VKA(K)IQD', 'children': ''},\n",
       "  {'site_name': 'K33', 'sequence_id': 'IQD(K)EGI', 'children': ''},\n",
       "  {'site_name': 'K48',\n",
       "   'sequence_id': 'FAG(K)QLE',\n",
       "   'children': {'protein': '1ubq',\n",
       "    'chain_number': 2,\n",
       "    'FASTA_sequence': 'MQIFVKTLTGKTITLEVEPSDTIENVKAKIQDKEGIPPDQQRLIFAGKQLEDGRTLSDYNIQKESTLHLVLRLRGG',\n",
       "    'chain_length': 76,\n",
       "    'branching_sites': [{'site_name': 'M1',\n",
       "      'sequence_id': '(M)QIF',\n",
       "      'children': ''},\n",
       "     {'site_name': 'K6', 'sequence_id': 'IFV(K)TLT', 'children': ''},\n",
       "     {'site_name': 'K11', 'sequence_id': 'LTG(K)TIT', 'children': ''},\n",
       "     {'site_name': 'K27', 'sequence_id': 'ENV(K)AKI', 'children': ''},\n",
       "     {'site_name': 'K29', 'sequence_id': 'VKA(K)IQD', 'children': ''},\n",
       "     {'site_name': 'K33', 'sequence_id': 'IQD(K)EGI', 'children': ''},\n",
       "     {'site_name': 'K48', 'sequence_id': 'FAG(K)QLE', 'children': ''},\n",
       "     {'site_name': 'K63', 'sequence_id': 'NIQ(K)EST', 'children': 'SMAC'}]}},\n",
       "  {'site_name': 'K63', 'sequence_id': 'NIQ(K)EST', 'children': 'SMAC'}],\n",
       " 123: 'value'}"
      ]
     },
     "execution_count": 12,
     "metadata": {},
     "output_type": "execute_result"
    }
   ],
   "source": [
    "invalid_json = copy.deepcopy(k48_dimer_ubiquitin)\n",
    "invalid_json[123]= \"value\"\n",
    "relabelling_ubiquitin_numbers(invalid_json)"
   ]
  },
  {
   "cell_type": "code",
   "execution_count": null,
   "metadata": {},
   "outputs": [],
   "source": []
  }
 ],
 "metadata": {
  "kernelspec": {
   "display_name": ".venv",
   "language": "python",
   "name": "python3"
  },
  "language_info": {
   "codemirror_mode": {
    "name": "ipython",
    "version": 3
   },
   "file_extension": ".py",
   "mimetype": "text/x-python",
   "name": "python",
   "nbconvert_exporter": "python",
   "pygments_lexer": "ipython3",
   "version": "3.11.7"
  }
 },
 "nbformat": 4,
 "nbformat_minor": 2
}
